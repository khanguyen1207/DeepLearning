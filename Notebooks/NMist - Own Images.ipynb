{
 "cells": [
  {
   "cell_type": "markdown",
   "metadata": {},
   "source": [
    "## Ramon Brand - Session 2 - NMist with own images\n",
    "### Overview\n",
    "The idea of this exercise is to train a neural network using the nmist dataset, and then use the network to predict own hand drawn number images.\n",
    "\n",
    "The first part of the exercise will be to train the network using some various configurations to see how we can get a reasonably accurate result using the given nmist test data.\n",
    "\n",
    "Secondly, we will read in our own images, and plot them to see how they look, and process the data as we see fit.\n",
    "\n",
    "Lastly, our own images will be passed into the network we created in the first step, to predict the number they represent.\n",
    "\n",
    "### Part 1 - Training the network\n",
    "The first try is with a simple one layer network."
   ]
  },
  {
   "cell_type": "code",
   "execution_count": 2,
   "metadata": {},
   "outputs": [
    {
     "name": "stderr",
     "output_type": "stream",
     "text": [
      "Using TensorFlow backend.\n"
     ]
    },
    {
     "name": "stdout",
     "output_type": "stream",
     "text": [
      "Downloading data from https://s3.amazonaws.com/img-datasets/mnist.npz\n",
      "11493376/11490434 [==============================] - 3s 0us/step\n",
      "_________________________________________________________________\n",
      "Layer (type)                 Output Shape              Param #   \n",
      "=================================================================\n",
      "dense_1 (Dense)              (None, 10)                7850      \n",
      "=================================================================\n",
      "Total params: 7,850\n",
      "Trainable params: 7,850\n",
      "Non-trainable params: 0\n",
      "_________________________________________________________________\n",
      "Epoch 1/10\n",
      "60000/60000 [==============================] - 4s 74us/step - loss: 1.0035 - acc: 0.7654\n",
      "Epoch 2/10\n",
      "60000/60000 [==============================] - 3s 52us/step - loss: 0.5567 - acc: 0.8638\n",
      "Epoch 3/10\n",
      "60000/60000 [==============================] - 3s 51us/step - loss: 0.4751 - acc: 0.8775\n",
      "Epoch 4/10\n",
      "60000/60000 [==============================] - 3s 52us/step - loss: 0.4354 - acc: 0.8846\n",
      "Epoch 5/10\n",
      "60000/60000 [==============================] - 3s 52us/step - loss: 0.4110 - acc: 0.8898\n",
      "Epoch 6/10\n",
      "60000/60000 [==============================] - 3s 53us/step - loss: 0.3939 - acc: 0.8932\n",
      "Epoch 7/10\n",
      "60000/60000 [==============================] - 3s 52us/step - loss: 0.3812 - acc: 0.8960\n",
      "Epoch 8/10\n",
      "60000/60000 [==============================] - 3s 51us/step - loss: 0.3711 - acc: 0.8983\n",
      "Epoch 9/10\n",
      "60000/60000 [==============================] - 3s 51us/step - loss: 0.3628 - acc: 0.9000\n",
      "Epoch 10/10\n",
      "60000/60000 [==============================] - 3s 50us/step - loss: 0.3560 - acc: 0.9017\n",
      "10000/10000 [==============================] - 0s 45us/step\n",
      "Loss:  0.33729397151470186\n",
      "Accuracy:  0.9089\n"
     ]
    }
   ],
   "source": [
    "import numpy as np\n",
    "from keras.datasets import mnist\n",
    "from keras.models import Sequential\n",
    "from keras.layers import Dense\n",
    "from keras.utils import to_categorical\n",
    "\n",
    "# -- Load Data File\n",
    "(x_train, y_train), (x_test, y_test) = mnist.load_data()\n",
    "\n",
    "# -- Shuffle\n",
    "state = np.random.get_state()\n",
    "np.random.shuffle(x_train)\n",
    "np.random.set_state(state)\n",
    "np.random.shuffle(y_train)\n",
    "state = np.random.get_state()\n",
    "np.random.shuffle(x_test)\n",
    "np.random.set_state(state)\n",
    "np.random.shuffle(y_test)\n",
    "\n",
    "# -- Change type\n",
    "x_train = x_train.astype('float32')\n",
    "x_test = x_test.astype('float32')\n",
    "\n",
    "# -- Reshape\n",
    "x_train = x_train.reshape(x_train.shape[0], 28 * 28)\n",
    "x_test = x_test.reshape(x_test.shape[0], 28 * 28)\n",
    "\n",
    "# -- Normalize\n",
    "x_train /= 255\n",
    "x_test /= 255\n",
    "\n",
    "# -- Change results to category one hot\n",
    "y_train = to_categorical(y_train, 10)\n",
    "y_test = to_categorical(y_test, 10)\n",
    "\n",
    "# -- Create model\n",
    "model = Sequential()\n",
    "model.add(Dense(10, input_shape=(28 * 28,), activation=\"softmax\"))\n",
    "model.compile(optimizer=\"sgd\", loss=\"categorical_crossentropy\", metrics=[\"accuracy\"])\n",
    "model.summary()\n",
    "hist = model.fit(x_train, y_train, epochs=10, batch_size=64)\n",
    "\n",
    "score = model.evaluate(x_test, y_test)\n",
    "print(\"Loss: \", score[0])\n",
    "print(\"Accuracy: \", score[1])"
   ]
  },
  {
   "cell_type": "markdown",
   "metadata": {},
   "source": [
    "We get an accuracy of 0.91 with one layer. This is not too bad, but I think we can do better without going crazy with layers.\n"
   ]
  },
  {
   "cell_type": "code",
   "execution_count": 11,
   "metadata": {},
   "outputs": [
    {
     "name": "stdout",
     "output_type": "stream",
     "text": [
      "_________________________________________________________________\n",
      "Layer (type)                 Output Shape              Param #   \n",
      "=================================================================\n",
      "dense_35 (Dense)             (None, 400)               314000    \n",
      "_________________________________________________________________\n",
      "dense_36 (Dense)             (None, 100)               40100     \n",
      "_________________________________________________________________\n",
      "dense_37 (Dense)             (None, 10)                1010      \n",
      "=================================================================\n",
      "Total params: 355,110\n",
      "Trainable params: 355,110\n",
      "Non-trainable params: 0\n",
      "_________________________________________________________________\n",
      "Epoch 1/10\n",
      "60000/60000 [==============================] - 4s 72us/step - loss: 0.7480 - acc: 0.8217\n",
      "Epoch 2/10\n",
      "60000/60000 [==============================] - 4s 65us/step - loss: 0.3401 - acc: 0.9044\n",
      "Epoch 3/10\n",
      "60000/60000 [==============================] - 4s 66us/step - loss: 0.2856 - acc: 0.9186\n",
      "Epoch 4/10\n",
      "60000/60000 [==============================] - 4s 64us/step - loss: 0.2529 - acc: 0.9280\n",
      "Epoch 5/10\n",
      "60000/60000 [==============================] - 4s 66us/step - loss: 0.2284 - acc: 0.9351\n",
      "Epoch 6/10\n",
      "60000/60000 [==============================] - 4s 65us/step - loss: 0.2084 - acc: 0.9409\n",
      "Epoch 7/10\n",
      "60000/60000 [==============================] - 4s 66us/step - loss: 0.1915 - acc: 0.9458\n",
      "Epoch 8/10\n",
      "60000/60000 [==============================] - 4s 65us/step - loss: 0.1769 - acc: 0.9504\n",
      "Epoch 9/10\n",
      "60000/60000 [==============================] - 4s 65us/step - loss: 0.1643 - acc: 0.9538\n",
      "Epoch 10/10\n",
      "60000/60000 [==============================] - 4s 65us/step - loss: 0.1533 - acc: 0.9572\n",
      "10000/10000 [==============================] - 1s 63us/step\n",
      "Loss:  0.15413822441101074\n",
      "Accuracy:  0.9538\n"
     ]
    }
   ],
   "source": [
    "import numpy as np\n",
    "from keras.datasets import mnist\n",
    "from keras.models import Sequential\n",
    "from keras.layers import Dense\n",
    "from keras.utils import to_categorical\n",
    "\n",
    "# -- Load Data File\n",
    "(x_train, y_train), (x_test, y_test) = mnist.load_data()\n",
    "\n",
    "# -- Shuffle\n",
    "state = np.random.get_state()\n",
    "np.random.shuffle(x_train)\n",
    "np.random.set_state(state)\n",
    "np.random.shuffle(y_train)\n",
    "state = np.random.get_state()\n",
    "np.random.shuffle(x_test)\n",
    "np.random.set_state(state)\n",
    "np.random.shuffle(y_test)\n",
    "\n",
    "# -- Change type\n",
    "x_train = x_train.astype('float32')\n",
    "x_test = x_test.astype('float32')\n",
    "\n",
    "# -- Reshape\n",
    "x_train = x_train.reshape(x_train.shape[0], 28 * 28)\n",
    "x_test = x_test.reshape(x_test.shape[0], 28 * 28)\n",
    "\n",
    "# -- Normalize\n",
    "x_train /= 255\n",
    "x_test /= 255\n",
    "\n",
    "# -- Change results to category one hot\n",
    "y_train = to_categorical(y_train, 10)\n",
    "y_test = to_categorical(y_test, 10)\n",
    "\n",
    "# -- Create model\n",
    "model = Sequential()\n",
    "\n",
    "# -- First layer\n",
    "model.add(Dense(400, input_shape=(28 * 28,), activation=\"relu\"))\n",
    "\n",
    "# -- Second layer\n",
    "model.add(Dense(100, input_shape=(400,), activation=\"relu\"))\n",
    "\n",
    "# -- Last layer\n",
    "model.add(Dense(10, input_shape=(100,), activation=\"softmax\"))\n",
    "\n",
    "model.compile(optimizer=\"sgd\", loss=\"categorical_crossentropy\", metrics=[\"accuracy\"])\n",
    "model.summary()\n",
    "hist = model.fit(x_train, y_train, epochs=10, batch_size=64)\n",
    "\n",
    "score = model.evaluate(x_test, y_test)\n",
    "print(\"Loss: \", score[0])\n",
    "print(\"Accuracy: \", score[1])"
   ]
  },
  {
   "cell_type": "markdown",
   "metadata": {},
   "source": [
    "Here we are able to get an accuracy of 0.95, which is sufficient for now.\n",
    "\n",
    "### Part 2 - Loading own images"
   ]
  },
  {
   "cell_type": "code",
   "execution_count": 8,
   "metadata": {},
   "outputs": [
    {
     "name": "stdout",
     "output_type": "stream",
     "text": [
      "[[[  0   0   0]\n",
      "  [255 255 255]\n",
      "  [255 255 255]\n",
      "  ...\n",
      "  [255 255 255]\n",
      "  [255 255 255]\n",
      "  [255 255 255]]\n",
      "\n",
      " [[255 255 255]\n",
      "  [255 255 255]\n",
      "  [255 255 255]\n",
      "  ...\n",
      "  [255 255 255]\n",
      "  [255 255 255]\n",
      "  [255 255 255]]\n",
      "\n",
      " [[255 255 255]\n",
      "  [255 255 255]\n",
      "  [255 255 255]\n",
      "  ...\n",
      "  [255 255 255]\n",
      "  [255 255 255]\n",
      "  [255 255 255]]\n",
      "\n",
      " ...\n",
      "\n",
      " [[255 255 255]\n",
      "  [255 255 255]\n",
      "  [255 255 255]\n",
      "  ...\n",
      "  [255 255 255]\n",
      "  [255 255 255]\n",
      "  [255 255 255]]\n",
      "\n",
      " [[255 255 255]\n",
      "  [255 255 255]\n",
      "  [255 255 255]\n",
      "  ...\n",
      "  [255 255 255]\n",
      "  [255 255 255]\n",
      "  [255 255 255]]\n",
      "\n",
      " [[105 105 105]\n",
      "  [255 255 255]\n",
      "  [255 255 255]\n",
      "  ...\n",
      "  [255 255 255]\n",
      "  [255 255 255]\n",
      "  [255 255 255]]]\n"
     ]
    }
   ],
   "source": [
    "import numpy as np\n",
    "from keras.preprocessing.image import load_img\n",
    "\n",
    "img = load_img(\"tldot.png\")\n",
    "imgData = np.array(img)\n",
    "\n",
    "print(imgData)"
   ]
  },
  {
   "cell_type": "markdown",
   "metadata": {},
   "source": [
    "The image has one black pixel in the top left and one grey pixel in the bottom left. This will allow us to confirm the order, as in either arrays of rows or arrays of columns. We can see the grey pixel in the first element of the last parent element, meaning the data is an array containing horizontal rows.\n",
    "\n",
    "Since load_img always loads rgb even when the image is only grayscale, we will just use the first element of the array. We will also divide the values by 255 after we convert it to floats."
   ]
  },
  {
   "cell_type": "code",
   "execution_count": 12,
   "metadata": {},
   "outputs": [
    {
     "name": "stdout",
     "output_type": "stream",
     "text": [
      "[0. 1. 1. 1. 1. 1. 1. 1. 1. 1. 1. 1. 1. 1. 1. 1. 1. 1. 1. 1. 1. 1. 1. 1.\n",
      " 1. 1. 1. 1.]\n",
      "[1. 1. 1. 1. 1. 1. 1. 1. 1. 1. 1. 1. 1. 1. 1. 1. 1. 1. 1. 1. 1. 1. 1. 1.\n",
      " 1. 1. 1. 1.]\n",
      "[1. 1. 1. 1. 1. 1. 1. 1. 1. 1. 1. 1. 1. 1. 1. 1. 1. 1. 1. 1. 1. 1. 1. 1.\n",
      " 1. 1. 1. 1.]\n",
      "[1. 1. 1. 1. 1. 1. 1. 1. 1. 1. 1. 1. 1. 1. 1. 1. 1. 1. 1. 1. 1. 1. 1. 1.\n",
      " 1. 1. 1. 1.]\n",
      "[0.4117647 1.        1.        1.        1.        1.        1.\n",
      " 1.        1.        1.        1.        1.        1.        1.\n",
      " 1.        1.        1.        1.        1.        1.        1.\n",
      " 1.        1.        1.        1.        1.        1.        1.       ]\n"
     ]
    }
   ],
   "source": [
    "import numpy as np\n",
    "from keras.preprocessing.image import load_img\n",
    "\n",
    "# -- Load image\n",
    "img = load_img(\"tldot.png\")\n",
    "imgData = np.array(img)\n",
    "\n",
    "# -- Use only first element of deepest child\n",
    "imgDataCut = imgData[:,:,0]\n",
    "\n",
    "# -- Change type\n",
    "imgDataCut = imgDataCut.astype('float32')\n",
    "\n",
    "# -- Normalize\n",
    "imgDataCut /= 255\n",
    "\n",
    "print(imgDataCut[0]) # -- First row\n",
    "print(imgDataCut[1]) # -- Second row <- Same as all middle rows for this example\n",
    "print(imgDataCut[-1])# -- Last row"
   ]
  },
  {
   "cell_type": "markdown",
   "metadata": {},
   "source": [
    "Notice the black pixel in the first row, and the grey pixel in the last row.\n",
    "\n",
    "We can also plot the image to be sure. Here we plot some of our test images also."
   ]
  },
  {
   "cell_type": "code",
   "execution_count": 23,
   "metadata": {},
   "outputs": [
    {
     "data": {
      "image/png": "[encoded data removed]",
      "text/plain": [
       "<matplotlib.figure.Figure at 0x24f2c755f60>"
      ]
     },
     "metadata": {},
     "output_type": "display_data"
    },
    {
     "data": {
      "image/png": "[encoded data removed]",
      "text/plain": [
       "<matplotlib.figure.Figure at 0x24f28621e10>"
      ]
     },
     "metadata": {},
     "output_type": "display_data"
    },
    {
     "data": {
      "image/png": "[encoded data removed]",
      "text/plain": [
       "<matplotlib.figure.Figure at 0x24f299d5cf8>"
      ]
     },
     "metadata": {},
     "output_type": "display_data"
    },
    {
     "data": {
      "image/png": "[encoded data removed]",
      "text/plain": [
       "<matplotlib.figure.Figure at 0x24f28676dd8>"
      ]
     },
     "metadata": {},
     "output_type": "display_data"
    },
    {
     "data": {
      "image/png": "[encoded data removed]",
      "text/plain": [
       "<matplotlib.figure.Figure at 0x24f299f4a20>"
      ]
     },
     "metadata": {},
     "output_type": "display_data"
    },
    {
     "data": {
      "image/png": "[encoded data removed]",
      "text/plain": [
       "<matplotlib.figure.Figure at 0x24f2996de48>"
      ]
     },
     "metadata": {},
     "output_type": "display_data"
    }
   ],
   "source": [
    "%matplotlib inline\n",
    "\n",
    "import numpy as np\n",
    "from keras.preprocessing.image import load_img\n",
    "import matplotlib.pyplot as plt\n",
    "\n",
    "# -- Load image\n",
    "img = load_img(\"tldot.png\")\n",
    "imgData = np.array(img)\n",
    "\n",
    "# -- Use only first element of deepest child\n",
    "imgDataCut = imgData[:,:,0]\n",
    "\n",
    "# -- Change type\n",
    "imgDataCut = imgDataCut.astype('float32')\n",
    "\n",
    "# -- Normalize\n",
    "imgDataCut /= 255\n",
    "\n",
    "# -- Plot\n",
    "plt.imshow(imgDataCut, cmap=\"Greys\")\n",
    "plt.show()\n",
    "\n",
    "# -- Lets do this for some of our test images\n",
    "for x in range(0, 5):\n",
    "    # -- Load image\n",
    "    img = load_img(\"sample_\" + str(x) + \".png\")\n",
    "    imgData = np.array(img)\n",
    "\n",
    "    # -- Use only first element of deepest child\n",
    "    imgDataCut = imgData[:,:,0]\n",
    "\n",
    "    # -- Change type\n",
    "    imgDataCut = imgDataCut.astype('float32')\n",
    "\n",
    "    # -- Normalize\n",
    "    imgDataCut /= 255\n",
    "\n",
    "    # -- Plot\n",
    "    plt.imshow(imgDataCut, cmap=\"Greys\")\n",
    "    plt.show()\n"
   ]
  },
  {
   "cell_type": "markdown",
   "metadata": {},
   "source": [
    "Just to be sure the actual mnist images are similar. We plot some mnist images below."
   ]
  },
  {
   "cell_type": "code",
   "execution_count": 24,
   "metadata": {},
   "outputs": [
    {
     "data": {
      "image/png": "[encoded data removed]",
      "text/plain": [
       "<matplotlib.figure.Figure at 0x24f288184a8>"
      ]
     },
     "metadata": {},
     "output_type": "display_data"
    },
    {
     "data": {
      "image/png": "[encoded data removed]",
      "text/plain": [
       "<matplotlib.figure.Figure at 0x24f28739be0>"
      ]
     },
     "metadata": {},
     "output_type": "display_data"
    },
    {
     "data": {
      "image/png": "[encoded data removed]",
      "text/plain": [
       "<matplotlib.figure.Figure at 0x24f286f6518>"
      ]
     },
     "metadata": {},
     "output_type": "display_data"
    }
   ],
   "source": [
    "import numpy as np\n",
    "from keras.datasets import mnist\n",
    "from keras.models import Sequential\n",
    "from keras.layers import Dense\n",
    "from keras.utils import to_categorical\n",
    "import matplotlib.pyplot as plt\n",
    "\n",
    "# -- Load Data File\n",
    "(x_train, y_train), (x_test, y_test) = mnist.load_data()\n",
    "\n",
    "# -- Change type\n",
    "x_test = x_test.astype('float32')\n",
    "\n",
    "# -- Reshape\n",
    "x_test = x_test.reshape(x_test.shape[0], 28 * 28)\n",
    "\n",
    "# -- Normalize\n",
    "x_test /= 255\n",
    "\n",
    "# -- Plot\n",
    "plt.imshow(x_train[0], cmap=\"Greys\")\n",
    "plt.show()\n",
    "plt.imshow(x_train[1553], cmap=\"Greys\")\n",
    "plt.show()\n",
    "plt.imshow(x_train[33252], cmap=\"Greys\")\n",
    "plt.show()"
   ]
  },
  {
   "cell_type": "markdown",
   "metadata": {},
   "source": [
    "By doing this, we can see that the mnist images are a little more 'beefy' and bold, so we should consider this if the results are not as we expect them to be.\n",
    "\n",
    "### Part 3 - Prediction"
   ]
  },
  {
   "cell_type": "code",
   "execution_count": 21,
   "metadata": {},
   "outputs": [
    {
     "name": "stdout",
     "output_type": "stream",
     "text": [
      "_________________________________________________________________\n",
      "Layer (type)                 Output Shape              Param #   \n",
      "=================================================================\n",
      "dense_61 (Dense)             (None, 400)               314000    \n",
      "_________________________________________________________________\n",
      "dense_62 (Dense)             (None, 100)               40100     \n",
      "_________________________________________________________________\n",
      "dense_63 (Dense)             (None, 10)                1010      \n",
      "=================================================================\n",
      "Total params: 355,110\n",
      "Trainable params: 355,110\n",
      "Non-trainable params: 0\n",
      "_________________________________________________________________\n",
      "Epoch 1/10\n",
      "60000/60000 [==============================] - 4s 71us/step - loss: 0.8002 - acc: 0.7995\n",
      "Epoch 2/10\n",
      "60000/60000 [==============================] - 4s 65us/step - loss: 0.3412 - acc: 0.9057\n",
      "Epoch 3/10\n",
      "60000/60000 [==============================] - 4s 64us/step - loss: 0.2833 - acc: 0.9196\n",
      "Epoch 4/10\n",
      "60000/60000 [==============================] - 4s 65us/step - loss: 0.2494 - acc: 0.9294\n",
      "Epoch 5/10\n",
      "60000/60000 [==============================] - 4s 63us/step - loss: 0.2249 - acc: 0.9364\n",
      "Epoch 6/10\n",
      "60000/60000 [==============================] - 4s 64us/step - loss: 0.2055 - acc: 0.9426\n",
      "Epoch 7/10\n",
      "60000/60000 [==============================] - 4s 63us/step - loss: 0.1890 - acc: 0.9467: \n",
      "Epoch 8/10\n",
      "60000/60000 [==============================] - 4s 63us/step - loss: 0.1750 - acc: 0.9505\n",
      "Epoch 9/10\n",
      "60000/60000 [==============================] - 4s 65us/step - loss: 0.1627 - acc: 0.9540\n",
      "Epoch 10/10\n",
      "60000/60000 [==============================] - 4s 66us/step - loss: 0.1522 - acc: 0.9573\n",
      "10000/10000 [==============================] - 1s 67us/step\n",
      "Loss:  0.14841768904328345\n",
      "Accuracy:  0.9569\n",
      "Target: [0 1 2 3 4 5 6 7 8 9]\n",
      "Result: [2 1 2 3 4 6 5 3 8 7]\n"
     ]
    }
   ],
   "source": [
    "import numpy as np\n",
    "from keras.datasets import mnist\n",
    "from keras.models import Sequential\n",
    "from keras.layers import Dense\n",
    "from keras.utils import to_categorical\n",
    "from keras.preprocessing.image import load_img\n",
    "import matplotlib.pyplot as plt\n",
    "\n",
    "# -- Load Data File\n",
    "(x_train, y_train), (x_test, y_test) = mnist.load_data()\n",
    "\n",
    "# -- Shuffle\n",
    "state = np.random.get_state()\n",
    "np.random.shuffle(x_train)\n",
    "np.random.set_state(state)\n",
    "np.random.shuffle(y_train)\n",
    "state = np.random.get_state()\n",
    "np.random.shuffle(x_test)\n",
    "np.random.set_state(state)\n",
    "np.random.shuffle(y_test)\n",
    "\n",
    "# -- Change type\n",
    "x_train = x_train.astype('float32')\n",
    "x_test = x_test.astype('float32')\n",
    "\n",
    "# -- Reshape\n",
    "x_train = x_train.reshape(x_train.shape[0], 28 * 28)\n",
    "x_test = x_test.reshape(x_test.shape[0], 28 * 28)\n",
    "\n",
    "# -- Normalize\n",
    "x_train /= 255\n",
    "x_test /= 255\n",
    "\n",
    "# -- Change results to category one hot\n",
    "y_train = to_categorical(y_train, 10)\n",
    "y_test = to_categorical(y_test, 10)\n",
    "\n",
    "# -- Create model\n",
    "model = Sequential()\n",
    "\n",
    "# -- First layer\n",
    "model.add(Dense(400, input_shape=(28 * 28,), activation=\"relu\"))\n",
    "\n",
    "# -- Second layer\n",
    "model.add(Dense(100, input_shape=(400,), activation=\"relu\"))\n",
    "\n",
    "# -- Last layer\n",
    "model.add(Dense(10, input_shape=(100,), activation=\"softmax\"))\n",
    "\n",
    "model.compile(optimizer=\"sgd\", loss=\"categorical_crossentropy\", metrics=[\"accuracy\"])\n",
    "model.summary()\n",
    "hist = model.fit(x_train, y_train, epochs=10, batch_size=64)\n",
    "\n",
    "score = model.evaluate(x_test, y_test)\n",
    "print(\"Loss: \", score[0])\n",
    "print(\"Accuracy: \", score[1])\n",
    "\n",
    "# --------------------------------- Predictions\n",
    "\n",
    "x_predictions = None\n",
    "\n",
    "# -- Lets do this for some of our test images\n",
    "for x in range(0, 10):\n",
    "    # -- Load image\n",
    "    img = load_img(\"sample_\" + str(x) + \".png\")\n",
    "    imgData = np.array(img)\n",
    "\n",
    "    # -- Use only first element of deepest child\n",
    "    imgDataCut = imgData[:,:,0]\n",
    "\n",
    "    # -- Change type\n",
    "    imgDataCut = imgDataCut.astype('float32')\n",
    "\n",
    "    # -- Normalize\n",
    "    imgDataCut /= 255\n",
    "    \n",
    "    # -- Flatten array to match\n",
    "    imgDataCut = imgDataCut.flatten()\n",
    "    \n",
    "    if x_predictions is None:\n",
    "        x_predictions = [imgDataCut]\n",
    "    else:\n",
    "        x_predictions = np.concatenate((x_predictions, [imgDataCut]))\n",
    "    \n",
    "predictionResult = model.predict(x_predictions)    \n",
    "\n",
    "predictionHotIndex = np.argmax(predictionResult, axis=1)\n",
    "\n",
    "print(\"Target: [0 1 2 3 4 5 6 7 8 9]\")\n",
    "print(\"Result: \" + str(predictionHotIndex))"
   ]
  },
  {
   "cell_type": "markdown",
   "metadata": {},
   "source": [
    "### Result\n",
    "Here we have the result. 5 from the 10 images were predicted correctly. This is not to great, however I have had runs where there were up to 7 correct. It is interesting though, because the mistakes do somewhat make sense.\n",
    "\n",
    "If we look at the fact that the 7  was predicted as a 3, it can be seen how this is possible, since the 7 has the middle horizontal line, and the back of the 7 is slightly curved, it really does look like a 3 in a way."
   ]
  },
  {
   "cell_type": "code",
   "execution_count": null,
   "metadata": {},
   "outputs": [],
   "source": []
  }
 ],
 "metadata": {
  "kernelspec": {
   "display_name": "Python 3",
   "language": "python",
   "name": "python3"
  },
  "language_info": {
   "codemirror_mode": {
    "name": "ipython",
    "version": 3
   },
   "file_extension": ".py",
   "mimetype": "text/x-python",
   "name": "python",
   "nbconvert_exporter": "python",
   "pygments_lexer": "ipython3",
   "version": "3.6.4"
  }
 },
 "nbformat": 4,
 "nbformat_minor": 2
}
